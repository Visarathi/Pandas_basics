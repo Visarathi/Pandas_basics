{
 "cells": [
  {
   "cell_type": "code",
   "execution_count": 3,
   "metadata": {},
   "outputs": [
    {
     "data": {
      "text/plain": [
       "'1.1.3'"
      ]
     },
     "execution_count": 3,
     "metadata": {},
     "output_type": "execute_result"
    }
   ],
   "source": [
    "import pandas \n",
    "pandas.__version__"
   ]
  },
  {
   "cell_type": "code",
   "execution_count": 17,
   "metadata": {},
   "outputs": [
    {
     "data": {
      "text/plain": [
       "<Response [200]>"
      ]
     },
     "execution_count": 17,
     "metadata": {},
     "output_type": "execute_result"
    }
   ],
   "source": [
    "#import requests\n",
    "#url = 'http://wiki.stat.ucla.edu/socr/index.php/SOCR_Data_Dinov_020108_HeightsWeights'\n",
    "#crypto_url = requests.get(url)\n",
    "#crypto_url"
   ]
  },
  {
   "cell_type": "code",
   "execution_count": 20,
   "metadata": {},
   "outputs": [
    {
     "data": {
      "text/plain": [
       "(3, list)"
      ]
     },
     "execution_count": 20,
     "metadata": {},
     "output_type": "execute_result"
    }
   ],
   "source": [
    "#crypto_data = pd.read_html(crypto_url.text)\n",
    "#len(crypto_data), type(crypto_data)"
   ]
  },
  {
   "cell_type": "code",
   "execution_count": 4,
   "metadata": {},
   "outputs": [
    {
     "data": {
      "text/plain": [
       "(3, list)"
      ]
     },
     "execution_count": 4,
     "metadata": {},
     "output_type": "execute_result"
    }
   ],
   "source": [
    "data_source = 'http://wiki.stat.ucla.edu/socr/index.php/SOCR_Data_Dinov_020108_HeightsWeights'\n",
    "data = pd.read_html(data_source)\n",
    "len(data), type(data)"
   ]
  },
  {
   "cell_type": "code",
   "execution_count": 24,
   "metadata": {},
   "outputs": [
    {
     "data": {
      "text/html": [
       "<div>\n",
       "<style scoped>\n",
       "    .dataframe tbody tr th:only-of-type {\n",
       "        vertical-align: middle;\n",
       "    }\n",
       "\n",
       "    .dataframe tbody tr th {\n",
       "        vertical-align: top;\n",
       "    }\n",
       "\n",
       "    .dataframe thead th {\n",
       "        text-align: right;\n",
       "    }\n",
       "</style>\n",
       "<table border=\"1\" class=\"dataframe\">\n",
       "  <thead>\n",
       "    <tr style=\"text-align: right;\">\n",
       "      <th></th>\n",
       "      <th>0</th>\n",
       "    </tr>\n",
       "  </thead>\n",
       "  <tbody>\n",
       "    <tr>\n",
       "      <th>0</th>\n",
       "      <td>Contents 1 SOCR Data - 25,000 Records of Human...</td>\n",
       "    </tr>\n",
       "  </tbody>\n",
       "</table>\n",
       "</div>"
      ],
      "text/plain": [
       "                                                   0\n",
       "0  Contents 1 SOCR Data - 25,000 Records of Human..."
      ]
     },
     "execution_count": 24,
     "metadata": {},
     "output_type": "execute_result"
    }
   ],
   "source": [
    "data[0]"
   ]
  },
  {
   "cell_type": "code",
   "execution_count": 26,
   "metadata": {},
   "outputs": [
    {
     "data": {
      "text/html": [
       "<div>\n",
       "<style scoped>\n",
       "    .dataframe tbody tr th:only-of-type {\n",
       "        vertical-align: middle;\n",
       "    }\n",
       "\n",
       "    .dataframe tbody tr th {\n",
       "        vertical-align: top;\n",
       "    }\n",
       "\n",
       "    .dataframe thead th {\n",
       "        text-align: right;\n",
       "    }\n",
       "</style>\n",
       "<table border=\"1\" class=\"dataframe\">\n",
       "  <thead>\n",
       "    <tr style=\"text-align: right;\">\n",
       "      <th></th>\n",
       "      <th>0</th>\n",
       "      <th>1</th>\n",
       "      <th>2</th>\n",
       "      <th>3</th>\n",
       "      <th>4</th>\n",
       "      <th>5</th>\n",
       "      <th>6</th>\n",
       "      <th>7</th>\n",
       "      <th>8</th>\n",
       "      <th>9</th>\n",
       "      <th>10</th>\n",
       "      <th>11</th>\n",
       "    </tr>\n",
       "  </thead>\n",
       "  <tbody>\n",
       "    <tr>\n",
       "      <th>0</th>\n",
       "      <td>(default)</td>\n",
       "      <td>Deutsch</td>\n",
       "      <td>Español</td>\n",
       "      <td>Français</td>\n",
       "      <td>Italiano</td>\n",
       "      <td>Português</td>\n",
       "      <td>日本語</td>\n",
       "      <td>България</td>\n",
       "      <td>الامارات العربية المتحدة</td>\n",
       "      <td>Suomi</td>\n",
       "      <td>इस भाषा में</td>\n",
       "      <td>Norge</td>\n",
       "    </tr>\n",
       "    <tr>\n",
       "      <th>1</th>\n",
       "      <td>한국어</td>\n",
       "      <td>中文</td>\n",
       "      <td>繁体中文</td>\n",
       "      <td>Русский</td>\n",
       "      <td>Nederlands</td>\n",
       "      <td>Ελληνικά</td>\n",
       "      <td>Hrvatska</td>\n",
       "      <td>Česká republika</td>\n",
       "      <td>Danmark</td>\n",
       "      <td>Polska</td>\n",
       "      <td>România</td>\n",
       "      <td>Sverige</td>\n",
       "    </tr>\n",
       "  </tbody>\n",
       "</table>\n",
       "</div>"
      ],
      "text/plain": [
       "          0        1        2         3           4          5         6   \\\n",
       "0  (default)  Deutsch  Español  Français    Italiano  Português       日本語   \n",
       "1        한국어       中文     繁体中文   Русский  Nederlands   Ελληνικά  Hrvatska   \n",
       "\n",
       "                7                         8       9            10       11  \n",
       "0         България  الامارات العربية المتحدة   Suomi  इस भाषा में    Norge  \n",
       "1  Česká republika                   Danmark  Polska      România  Sverige  "
      ]
     },
     "execution_count": 26,
     "metadata": {},
     "output_type": "execute_result"
    }
   ],
   "source": [
    "data[2]"
   ]
  },
  {
   "cell_type": "code",
   "execution_count": 7,
   "metadata": {},
   "outputs": [
    {
     "data": {
      "text/html": [
       "<div>\n",
       "<style scoped>\n",
       "    .dataframe tbody tr th:only-of-type {\n",
       "        vertical-align: middle;\n",
       "    }\n",
       "\n",
       "    .dataframe tbody tr th {\n",
       "        vertical-align: top;\n",
       "    }\n",
       "\n",
       "    .dataframe thead th {\n",
       "        text-align: right;\n",
       "    }\n",
       "</style>\n",
       "<table border=\"1\" class=\"dataframe\">\n",
       "  <thead>\n",
       "    <tr style=\"text-align: right;\">\n",
       "      <th></th>\n",
       "      <th>Index</th>\n",
       "      <th>Height(Inches)</th>\n",
       "      <th>Weight(Pounds)</th>\n",
       "    </tr>\n",
       "  </thead>\n",
       "  <tbody>\n",
       "    <tr>\n",
       "      <th>0</th>\n",
       "      <td>1</td>\n",
       "      <td>65.78</td>\n",
       "      <td>112.99</td>\n",
       "    </tr>\n",
       "    <tr>\n",
       "      <th>1</th>\n",
       "      <td>2</td>\n",
       "      <td>71.52</td>\n",
       "      <td>136.49</td>\n",
       "    </tr>\n",
       "    <tr>\n",
       "      <th>2</th>\n",
       "      <td>3</td>\n",
       "      <td>69.40</td>\n",
       "      <td>153.03</td>\n",
       "    </tr>\n",
       "    <tr>\n",
       "      <th>3</th>\n",
       "      <td>4</td>\n",
       "      <td>68.22</td>\n",
       "      <td>142.34</td>\n",
       "    </tr>\n",
       "    <tr>\n",
       "      <th>4</th>\n",
       "      <td>5</td>\n",
       "      <td>67.79</td>\n",
       "      <td>144.30</td>\n",
       "    </tr>\n",
       "    <tr>\n",
       "      <th>...</th>\n",
       "      <td>...</td>\n",
       "      <td>...</td>\n",
       "      <td>...</td>\n",
       "    </tr>\n",
       "    <tr>\n",
       "      <th>195</th>\n",
       "      <td>196</td>\n",
       "      <td>65.80</td>\n",
       "      <td>120.84</td>\n",
       "    </tr>\n",
       "    <tr>\n",
       "      <th>196</th>\n",
       "      <td>197</td>\n",
       "      <td>66.11</td>\n",
       "      <td>115.78</td>\n",
       "    </tr>\n",
       "    <tr>\n",
       "      <th>197</th>\n",
       "      <td>198</td>\n",
       "      <td>68.24</td>\n",
       "      <td>128.30</td>\n",
       "    </tr>\n",
       "    <tr>\n",
       "      <th>198</th>\n",
       "      <td>199</td>\n",
       "      <td>68.02</td>\n",
       "      <td>127.47</td>\n",
       "    </tr>\n",
       "    <tr>\n",
       "      <th>199</th>\n",
       "      <td>200</td>\n",
       "      <td>71.39</td>\n",
       "      <td>127.88</td>\n",
       "    </tr>\n",
       "  </tbody>\n",
       "</table>\n",
       "<p>200 rows × 3 columns</p>\n",
       "</div>"
      ],
      "text/plain": [
       "     Index  Height(Inches)  Weight(Pounds)\n",
       "0        1           65.78          112.99\n",
       "1        2           71.52          136.49\n",
       "2        3           69.40          153.03\n",
       "3        4           68.22          142.34\n",
       "4        5           67.79          144.30\n",
       "..     ...             ...             ...\n",
       "195    196           65.80          120.84\n",
       "196    197           66.11          115.78\n",
       "197    198           68.24          128.30\n",
       "198    199           68.02          127.47\n",
       "199    200           71.39          127.88\n",
       "\n",
       "[200 rows x 3 columns]"
      ]
     },
     "execution_count": 7,
     "metadata": {},
     "output_type": "execute_result"
    }
   ],
   "source": [
    "df = data[1]\n",
    "data[1]"
   ]
  },
  {
   "cell_type": "code",
   "execution_count": 8,
   "metadata": {},
   "outputs": [
    {
     "data": {
      "text/html": [
       "<div>\n",
       "<style scoped>\n",
       "    .dataframe tbody tr th:only-of-type {\n",
       "        vertical-align: middle;\n",
       "    }\n",
       "\n",
       "    .dataframe tbody tr th {\n",
       "        vertical-align: top;\n",
       "    }\n",
       "\n",
       "    .dataframe thead th {\n",
       "        text-align: right;\n",
       "    }\n",
       "</style>\n",
       "<table border=\"1\" class=\"dataframe\">\n",
       "  <thead>\n",
       "    <tr style=\"text-align: right;\">\n",
       "      <th></th>\n",
       "      <th>Index</th>\n",
       "      <th>Height(Inches)</th>\n",
       "      <th>Weight(Pounds)</th>\n",
       "    </tr>\n",
       "  </thead>\n",
       "  <tbody>\n",
       "    <tr>\n",
       "      <th>0</th>\n",
       "      <td>1</td>\n",
       "      <td>65.78</td>\n",
       "      <td>112.99</td>\n",
       "    </tr>\n",
       "    <tr>\n",
       "      <th>1</th>\n",
       "      <td>2</td>\n",
       "      <td>71.52</td>\n",
       "      <td>136.49</td>\n",
       "    </tr>\n",
       "    <tr>\n",
       "      <th>2</th>\n",
       "      <td>3</td>\n",
       "      <td>69.40</td>\n",
       "      <td>153.03</td>\n",
       "    </tr>\n",
       "    <tr>\n",
       "      <th>3</th>\n",
       "      <td>4</td>\n",
       "      <td>68.22</td>\n",
       "      <td>142.34</td>\n",
       "    </tr>\n",
       "    <tr>\n",
       "      <th>4</th>\n",
       "      <td>5</td>\n",
       "      <td>67.79</td>\n",
       "      <td>144.30</td>\n",
       "    </tr>\n",
       "  </tbody>\n",
       "</table>\n",
       "</div>"
      ],
      "text/plain": [
       "   Index  Height(Inches)  Weight(Pounds)\n",
       "0      1           65.78          112.99\n",
       "1      2           71.52          136.49\n",
       "2      3           69.40          153.03\n",
       "3      4           68.22          142.34\n",
       "4      5           67.79          144.30"
      ]
     },
     "execution_count": 8,
     "metadata": {},
     "output_type": "execute_result"
    }
   ],
   "source": [
    "df.head()"
   ]
  },
  {
   "cell_type": "markdown",
   "metadata": {},
   "source": [
    "Finding wethear a null value is present or not(isnull()). if present show them(any())"
   ]
  },
  {
   "cell_type": "code",
   "execution_count": 9,
   "metadata": {
    "scrolled": true
   },
   "outputs": [
    {
     "data": {
      "text/plain": [
       "Index             False\n",
       "Height(Inches)    False\n",
       "Weight(Pounds)    False\n",
       "dtype: bool"
      ]
     },
     "execution_count": 9,
     "metadata": {},
     "output_type": "execute_result"
    }
   ],
   "source": [
    "df.isnull().any()"
   ]
  },
  {
   "cell_type": "markdown",
   "metadata": {},
   "source": [
    "Finding the datatype of each column(used without brackets coz its not a function its a object in DataFrame)"
   ]
  },
  {
   "cell_type": "code",
   "execution_count": 10,
   "metadata": {
    "scrolled": true
   },
   "outputs": [
    {
     "data": {
      "text/plain": [
       "Index               int64\n",
       "Height(Inches)    float64\n",
       "Weight(Pounds)    float64\n",
       "dtype: object"
      ]
     },
     "execution_count": 10,
     "metadata": {},
     "output_type": "execute_result"
    }
   ],
   "source": [
    "df.dtypes"
   ]
  },
  {
   "cell_type": "markdown",
   "metadata": {},
   "source": [
    "Shows basic information of the dataset "
   ]
  },
  {
   "cell_type": "code",
   "execution_count": 11,
   "metadata": {},
   "outputs": [
    {
     "name": "stdout",
     "output_type": "stream",
     "text": [
      "<class 'pandas.core.frame.DataFrame'>\n",
      "RangeIndex: 200 entries, 0 to 199\n",
      "Data columns (total 3 columns):\n",
      " #   Column          Non-Null Count  Dtype  \n",
      "---  ------          --------------  -----  \n",
      " 0   Index           200 non-null    int64  \n",
      " 1   Height(Inches)  200 non-null    float64\n",
      " 2   Weight(Pounds)  200 non-null    float64\n",
      "dtypes: float64(2), int64(1)\n",
      "memory usage: 4.8 KB\n"
     ]
    }
   ],
   "source": [
    "df.info()"
   ]
  },
  {
   "cell_type": "markdown",
   "metadata": {},
   "source": [
    "Gives us the basic satas"
   ]
  },
  {
   "cell_type": "code",
   "execution_count": 12,
   "metadata": {},
   "outputs": [
    {
     "data": {
      "text/html": [
       "<div>\n",
       "<style scoped>\n",
       "    .dataframe tbody tr th:only-of-type {\n",
       "        vertical-align: middle;\n",
       "    }\n",
       "\n",
       "    .dataframe tbody tr th {\n",
       "        vertical-align: top;\n",
       "    }\n",
       "\n",
       "    .dataframe thead th {\n",
       "        text-align: right;\n",
       "    }\n",
       "</style>\n",
       "<table border=\"1\" class=\"dataframe\">\n",
       "  <thead>\n",
       "    <tr style=\"text-align: right;\">\n",
       "      <th></th>\n",
       "      <th>Index</th>\n",
       "      <th>Height(Inches)</th>\n",
       "      <th>Weight(Pounds)</th>\n",
       "    </tr>\n",
       "  </thead>\n",
       "  <tbody>\n",
       "    <tr>\n",
       "      <th>count</th>\n",
       "      <td>200.000000</td>\n",
       "      <td>200.000000</td>\n",
       "      <td>200.000000</td>\n",
       "    </tr>\n",
       "    <tr>\n",
       "      <th>mean</th>\n",
       "      <td>100.500000</td>\n",
       "      <td>67.949800</td>\n",
       "      <td>127.221950</td>\n",
       "    </tr>\n",
       "    <tr>\n",
       "      <th>std</th>\n",
       "      <td>57.879185</td>\n",
       "      <td>1.940363</td>\n",
       "      <td>11.960959</td>\n",
       "    </tr>\n",
       "    <tr>\n",
       "      <th>min</th>\n",
       "      <td>1.000000</td>\n",
       "      <td>63.430000</td>\n",
       "      <td>97.900000</td>\n",
       "    </tr>\n",
       "    <tr>\n",
       "      <th>25%</th>\n",
       "      <td>50.750000</td>\n",
       "      <td>66.522500</td>\n",
       "      <td>119.895000</td>\n",
       "    </tr>\n",
       "    <tr>\n",
       "      <th>50%</th>\n",
       "      <td>100.500000</td>\n",
       "      <td>67.935000</td>\n",
       "      <td>127.875000</td>\n",
       "    </tr>\n",
       "    <tr>\n",
       "      <th>75%</th>\n",
       "      <td>150.250000</td>\n",
       "      <td>69.202500</td>\n",
       "      <td>136.097500</td>\n",
       "    </tr>\n",
       "    <tr>\n",
       "      <th>max</th>\n",
       "      <td>200.000000</td>\n",
       "      <td>73.900000</td>\n",
       "      <td>158.960000</td>\n",
       "    </tr>\n",
       "  </tbody>\n",
       "</table>\n",
       "</div>"
      ],
      "text/plain": [
       "            Index  Height(Inches)  Weight(Pounds)\n",
       "count  200.000000      200.000000      200.000000\n",
       "mean   100.500000       67.949800      127.221950\n",
       "std     57.879185        1.940363       11.960959\n",
       "min      1.000000       63.430000       97.900000\n",
       "25%     50.750000       66.522500      119.895000\n",
       "50%    100.500000       67.935000      127.875000\n",
       "75%    150.250000       69.202500      136.097500\n",
       "max    200.000000       73.900000      158.960000"
      ]
     },
     "execution_count": 12,
     "metadata": {},
     "output_type": "execute_result"
    }
   ],
   "source": [
    "df.describe()"
   ]
  },
  {
   "cell_type": "markdown",
   "metadata": {},
   "source": [
    "Plots all the columns(ugly plot)"
   ]
  },
  {
   "cell_type": "code",
   "execution_count": 13,
   "metadata": {},
   "outputs": [
    {
     "data": {
      "text/plain": [
       "<AxesSubplot:>"
      ]
     },
     "execution_count": 13,
     "metadata": {},
     "output_type": "execute_result"
    },
    {
     "data": {
      "image/png": "[encoded data removed]",
      "text/plain": [
       "<Figure size 432x288 with 1 Axes>"
      ]
     },
     "metadata": {
      "needs_background": "light"
     },
     "output_type": "display_data"
    }
   ],
   "source": [
    "df.plot()"
   ]
  },
  {
   "cell_type": "markdown",
   "metadata": {},
   "source": [
    "Ploting without unimportant DV"
   ]
  },
  {
   "cell_type": "code",
   "execution_count": 41,
   "metadata": {},
   "outputs": [
    {
     "data": {
      "text/plain": [
       "<AxesSubplot:>"
      ]
     },
     "execution_count": 41,
     "metadata": {},
     "output_type": "execute_result"
    },
    {
     "data": {
      "image/png": "[encoded data removed]",
      "text/plain": [
       "<Figure size 432x288 with 1 Axes>"
      ]
     },
     "metadata": {
      "needs_background": "light"
     },
     "output_type": "display_data"
    }
   ],
   "source": [
    "df[['Height(Inches)','Weight(Pounds)']].plot()"
   ]
  },
  {
   "cell_type": "markdown",
   "metadata": {},
   "source": [
    "Gives us the relationship between the DV basically correlation. One of the way to visualising the correlation is scatter plot."
   ]
  },
  {
   "cell_type": "code",
   "execution_count": 42,
   "metadata": {},
   "outputs": [
    {
     "data": {
      "text/plain": [
       "<AxesSubplot:xlabel='Height(Inches)', ylabel='Weight(Pounds)'>"
      ]
     },
     "execution_count": 42,
     "metadata": {},
     "output_type": "execute_result"
    },
    {
     "data": {
      "image/png": "[encoded data removed]",
      "text/plain": [
       "<Figure size 432x288 with 1 Axes>"
      ]
     },
     "metadata": {
      "needs_background": "light"
     },
     "output_type": "display_data"
    }
   ],
   "source": [
    "df.plot(x='Height(Inches)',y='Weight(Pounds)',kind='scatter')"
   ]
  },
  {
   "cell_type": "markdown",
   "metadata": {},
   "source": [
    "Can be switch between axis "
   ]
  },
  {
   "cell_type": "code",
   "execution_count": 44,
   "metadata": {},
   "outputs": [
    {
     "data": {
      "text/plain": [
       "<AxesSubplot:xlabel='Weight(Pounds)', ylabel='Height(Inches)'>"
      ]
     },
     "execution_count": 44,
     "metadata": {},
     "output_type": "execute_result"
    },
    {
     "data": {
      "image/png": "[encoded data removed]",
      "text/plain": [
       "<Figure size 432x288 with 1 Axes>"
      ]
     },
     "metadata": {
      "needs_background": "light"
     },
     "output_type": "display_data"
    }
   ],
   "source": [
    "df.plot(y='Height(Inches)',x='Weight(Pounds)',kind='scatter')"
   ]
  },
  {
   "cell_type": "code",
   "execution_count": 46,
   "metadata": {},
   "outputs": [
    {
     "data": {
      "text/plain": [
       "<AxesSubplot:xlabel='Height(Inches)', ylabel='Weight(Pounds)'>"
      ]
     },
     "execution_count": 46,
     "metadata": {},
     "output_type": "execute_result"
    },
    {
     "data": {
      "image/png": "[encoded data removed]",
      "text/plain": [
       "<Figure size 432x288 with 1 Axes>"
      ]
     },
     "metadata": {
      "needs_background": "light"
     },
     "output_type": "display_data"
    }
   ],
   "source": [
    "df.plot(x='Height(Inches)',y='Weight(Pounds)',kind='scatter')"
   ]
  },
  {
   "cell_type": "markdown",
   "metadata": {},
   "source": [
    "Gives us the ratio"
   ]
  },
  {
   "cell_type": "code",
   "execution_count": 47,
   "metadata": {},
   "outputs": [
    {
     "data": {
      "text/html": [
       "<div>\n",
       "<style scoped>\n",
       "    .dataframe tbody tr th:only-of-type {\n",
       "        vertical-align: middle;\n",
       "    }\n",
       "\n",
       "    .dataframe tbody tr th {\n",
       "        vertical-align: top;\n",
       "    }\n",
       "\n",
       "    .dataframe thead th {\n",
       "        text-align: right;\n",
       "    }\n",
       "</style>\n",
       "<table border=\"1\" class=\"dataframe\">\n",
       "  <thead>\n",
       "    <tr style=\"text-align: right;\">\n",
       "      <th></th>\n",
       "      <th>Index</th>\n",
       "      <th>Height(Inches)</th>\n",
       "      <th>Weight(Pounds)</th>\n",
       "    </tr>\n",
       "  </thead>\n",
       "  <tbody>\n",
       "    <tr>\n",
       "      <th>Index</th>\n",
       "      <td>1.000000</td>\n",
       "      <td>-0.094260</td>\n",
       "      <td>-0.128882</td>\n",
       "    </tr>\n",
       "    <tr>\n",
       "      <th>Height(Inches)</th>\n",
       "      <td>-0.094260</td>\n",
       "      <td>1.000000</td>\n",
       "      <td>0.556865</td>\n",
       "    </tr>\n",
       "    <tr>\n",
       "      <th>Weight(Pounds)</th>\n",
       "      <td>-0.128882</td>\n",
       "      <td>0.556865</td>\n",
       "      <td>1.000000</td>\n",
       "    </tr>\n",
       "  </tbody>\n",
       "</table>\n",
       "</div>"
      ],
      "text/plain": [
       "                   Index  Height(Inches)  Weight(Pounds)\n",
       "Index           1.000000       -0.094260       -0.128882\n",
       "Height(Inches) -0.094260        1.000000        0.556865\n",
       "Weight(Pounds) -0.128882        0.556865        1.000000"
      ]
     },
     "execution_count": 47,
     "metadata": {},
     "output_type": "execute_result"
    }
   ],
   "source": [
    "df.corr()"
   ]
  },
  {
   "cell_type": "markdown",
   "metadata": {},
   "source": [
    "Indicates the lowest scale range(light colour) and height scale range(dark colour) "
   ]
  },
  {
   "cell_type": "code",
   "execution_count": 55,
   "metadata": {},
   "outputs": [
    {
     "data": {
      "text/html": [
       "<style  type=\"text/css\" >\n",
       "#T_38d5926e_6a93_11eb_af35_98af65c0b376row0_col0,#T_38d5926e_6a93_11eb_af35_98af65c0b376row1_col1,#T_38d5926e_6a93_11eb_af35_98af65c0b376row2_col2{\n",
       "            background-color:  #000000;\n",
       "            color:  #f1f1f1;\n",
       "        }#T_38d5926e_6a93_11eb_af35_98af65c0b376row0_col1,#T_38d5926e_6a93_11eb_af35_98af65c0b376row0_col2,#T_38d5926e_6a93_11eb_af35_98af65c0b376row2_col0{\n",
       "            background-color:  #ffffff;\n",
       "            color:  #000000;\n",
       "        }#T_38d5926e_6a93_11eb_af35_98af65c0b376row1_col0{\n",
       "            background-color:  #fcfcfc;\n",
       "            color:  #000000;\n",
       "        }#T_38d5926e_6a93_11eb_af35_98af65c0b376row1_col2{\n",
       "            background-color:  #787878;\n",
       "            color:  #000000;\n",
       "        }#T_38d5926e_6a93_11eb_af35_98af65c0b376row2_col1{\n",
       "            background-color:  #7b7b7b;\n",
       "            color:  #000000;\n",
       "        }</style><table id=\"T_38d5926e_6a93_11eb_af35_98af65c0b376\" ><thead>    <tr>        <th class=\"blank level0\" ></th>        <th class=\"col_heading level0 col0\" >Index</th>        <th class=\"col_heading level0 col1\" >Height(Inches)</th>        <th class=\"col_heading level0 col2\" >Weight(Pounds)</th>    </tr></thead><tbody>\n",
       "                <tr>\n",
       "                        <th id=\"T_38d5926e_6a93_11eb_af35_98af65c0b376level0_row0\" class=\"row_heading level0 row0\" >Index</th>\n",
       "                        <td id=\"T_38d5926e_6a93_11eb_af35_98af65c0b376row0_col0\" class=\"data row0 col0\" >1.000000</td>\n",
       "                        <td id=\"T_38d5926e_6a93_11eb_af35_98af65c0b376row0_col1\" class=\"data row0 col1\" >-0.094260</td>\n",
       "                        <td id=\"T_38d5926e_6a93_11eb_af35_98af65c0b376row0_col2\" class=\"data row0 col2\" >-0.128882</td>\n",
       "            </tr>\n",
       "            <tr>\n",
       "                        <th id=\"T_38d5926e_6a93_11eb_af35_98af65c0b376level0_row1\" class=\"row_heading level0 row1\" >Height(Inches)</th>\n",
       "                        <td id=\"T_38d5926e_6a93_11eb_af35_98af65c0b376row1_col0\" class=\"data row1 col0\" >-0.094260</td>\n",
       "                        <td id=\"T_38d5926e_6a93_11eb_af35_98af65c0b376row1_col1\" class=\"data row1 col1\" >1.000000</td>\n",
       "                        <td id=\"T_38d5926e_6a93_11eb_af35_98af65c0b376row1_col2\" class=\"data row1 col2\" >0.556865</td>\n",
       "            </tr>\n",
       "            <tr>\n",
       "                        <th id=\"T_38d5926e_6a93_11eb_af35_98af65c0b376level0_row2\" class=\"row_heading level0 row2\" >Weight(Pounds)</th>\n",
       "                        <td id=\"T_38d5926e_6a93_11eb_af35_98af65c0b376row2_col0\" class=\"data row2 col0\" >-0.128882</td>\n",
       "                        <td id=\"T_38d5926e_6a93_11eb_af35_98af65c0b376row2_col1\" class=\"data row2 col1\" >0.556865</td>\n",
       "                        <td id=\"T_38d5926e_6a93_11eb_af35_98af65c0b376row2_col2\" class=\"data row2 col2\" >1.000000</td>\n",
       "            </tr>\n",
       "    </tbody></table>"
      ],
      "text/plain": [
       "<pandas.io.formats.style.Styler at 0x290decf6790>"
      ]
     },
     "execution_count": 55,
     "metadata": {},
     "output_type": "execute_result"
    }
   ],
   "source": [
    " relation = df.corr()\n",
    "relation.style.background_gradient(cmap='Greys')"
   ]
  },
  {
   "cell_type": "markdown",
   "metadata": {},
   "source": [
    "Finds the length of the dataset"
   ]
  },
  {
   "cell_type": "code",
   "execution_count": 59,
   "metadata": {},
   "outputs": [
    {
     "data": {
      "text/plain": [
       "(200, 3)"
      ]
     },
     "execution_count": 59,
     "metadata": {},
     "output_type": "execute_result"
    }
   ],
   "source": [
    "df.shape"
   ]
  },
  {
   "cell_type": "markdown",
   "metadata": {},
   "source": [
    "In simple words, enumerate converts list into rows and columns"
   ]
  },
  {
   "cell_type": "code",
   "execution_count": 57,
   "metadata": {},
   "outputs": [
    {
     "name": "stdout",
     "output_type": "stream",
     "text": [
      "0 d\n",
      "1 v\n",
      "2 s\n",
      "3 a\n"
     ]
    }
   ],
   "source": [
    "d = ['d', 'v','s', 'a']\n",
    "for i,j in enumerate(d):\n",
    "    print(i,j)"
   ]
  },
  {
   "cell_type": "markdown",
   "metadata": {},
   "source": [
    "Converts the particular column into List"
   ]
  },
  {
   "cell_type": "code",
   "execution_count": 14,
   "metadata": {
    "collapsed": true
   },
   "outputs": [
    {
     "data": {
      "text/plain": [
       "[65.78,\n",
       " 71.52,\n",
       " 69.4,\n",
       " 68.22,\n",
       " 67.79,\n",
       " 68.7,\n",
       " 69.8,\n",
       " 70.01,\n",
       " 67.9,\n",
       " 66.78,\n",
       " 66.49,\n",
       " 67.62,\n",
       " 68.3,\n",
       " 67.12,\n",
       " 68.28,\n",
       " 71.09,\n",
       " 66.46,\n",
       " 68.65,\n",
       " 71.23,\n",
       " 67.13,\n",
       " 67.83,\n",
       " 68.88,\n",
       " 63.48,\n",
       " 68.42,\n",
       " 67.63,\n",
       " 67.21,\n",
       " 70.84,\n",
       " 67.49,\n",
       " 66.53,\n",
       " 65.44,\n",
       " 69.52,\n",
       " 65.81,\n",
       " 67.82,\n",
       " 70.6,\n",
       " 71.8,\n",
       " 69.21,\n",
       " 66.8,\n",
       " 67.66,\n",
       " 67.81,\n",
       " 64.05,\n",
       " 68.57,\n",
       " 65.18,\n",
       " 69.66,\n",
       " 67.97,\n",
       " 65.98,\n",
       " 68.67,\n",
       " 66.88,\n",
       " 67.7,\n",
       " 69.82,\n",
       " 69.09,\n",
       " 69.91,\n",
       " 67.33,\n",
       " 70.27,\n",
       " 69.1,\n",
       " 65.38,\n",
       " 70.18,\n",
       " 70.41,\n",
       " 66.54,\n",
       " 66.36,\n",
       " 67.54,\n",
       " 66.5,\n",
       " 69.0,\n",
       " 68.3,\n",
       " 67.01,\n",
       " 70.81,\n",
       " 68.22,\n",
       " 69.06,\n",
       " 67.73,\n",
       " 67.22,\n",
       " 67.37,\n",
       " 65.27,\n",
       " 70.84,\n",
       " 69.92,\n",
       " 64.29,\n",
       " 68.25,\n",
       " 66.36,\n",
       " 68.36,\n",
       " 65.48,\n",
       " 69.72,\n",
       " 67.73,\n",
       " 68.64,\n",
       " 66.78,\n",
       " 70.05,\n",
       " 66.28,\n",
       " 69.2,\n",
       " 69.13,\n",
       " 67.36,\n",
       " 70.09,\n",
       " 70.18,\n",
       " 68.23,\n",
       " 68.13,\n",
       " 70.24,\n",
       " 71.49,\n",
       " 69.2,\n",
       " 70.06,\n",
       " 70.56,\n",
       " 66.29,\n",
       " 63.43,\n",
       " 66.77,\n",
       " 68.89,\n",
       " 64.87,\n",
       " 67.09,\n",
       " 68.35,\n",
       " 65.61,\n",
       " 67.76,\n",
       " 68.02,\n",
       " 67.66,\n",
       " 66.31,\n",
       " 69.44,\n",
       " 63.84,\n",
       " 67.72,\n",
       " 70.05,\n",
       " 70.19,\n",
       " 65.95,\n",
       " 70.01,\n",
       " 68.61,\n",
       " 68.81,\n",
       " 69.76,\n",
       " 65.46,\n",
       " 68.83,\n",
       " 65.8,\n",
       " 67.21,\n",
       " 69.42,\n",
       " 68.94,\n",
       " 67.94,\n",
       " 65.63,\n",
       " 66.5,\n",
       " 67.93,\n",
       " 68.89,\n",
       " 70.24,\n",
       " 68.27,\n",
       " 71.23,\n",
       " 69.1,\n",
       " 64.4,\n",
       " 71.1,\n",
       " 68.22,\n",
       " 65.92,\n",
       " 67.44,\n",
       " 73.9,\n",
       " 69.98,\n",
       " 69.52,\n",
       " 65.18,\n",
       " 68.01,\n",
       " 68.34,\n",
       " 65.18,\n",
       " 68.26,\n",
       " 68.57,\n",
       " 64.5,\n",
       " 68.71,\n",
       " 68.89,\n",
       " 69.54,\n",
       " 67.4,\n",
       " 66.48,\n",
       " 66.01,\n",
       " 72.44,\n",
       " 64.13,\n",
       " 70.98,\n",
       " 67.5,\n",
       " 72.02,\n",
       " 65.31,\n",
       " 67.08,\n",
       " 64.39,\n",
       " 69.37,\n",
       " 68.38,\n",
       " 65.31,\n",
       " 67.14,\n",
       " 68.39,\n",
       " 66.29,\n",
       " 67.19,\n",
       " 65.99,\n",
       " 69.43,\n",
       " 67.97,\n",
       " 67.76,\n",
       " 65.28,\n",
       " 73.83,\n",
       " 66.81,\n",
       " 66.89,\n",
       " 65.74,\n",
       " 65.98,\n",
       " 66.58,\n",
       " 67.11,\n",
       " 65.87,\n",
       " 66.78,\n",
       " 68.74,\n",
       " 66.23,\n",
       " 65.96,\n",
       " 68.58,\n",
       " 66.59,\n",
       " 66.97,\n",
       " 68.08,\n",
       " 70.19,\n",
       " 65.52,\n",
       " 67.46,\n",
       " 67.41,\n",
       " 69.66,\n",
       " 65.8,\n",
       " 66.11,\n",
       " 68.24,\n",
       " 68.02,\n",
       " 71.39]"
      ]
     },
     "execution_count": 14,
     "metadata": {},
     "output_type": "execute_result"
    }
   ],
   "source": [
    "df['Height(Inches)'].to_list()"
   ]
  },
  {
   "cell_type": "code",
   "execution_count": 18,
   "metadata": {
    "collapsed": true
   },
   "outputs": [
    {
     "data": {
      "text/plain": [
       "[65.78,\n",
       " 71.52,\n",
       " 69.4,\n",
       " 68.22,\n",
       " 67.79,\n",
       " 68.7,\n",
       " 69.8,\n",
       " 70.01,\n",
       " 67.9,\n",
       " 66.78,\n",
       " 66.49,\n",
       " 67.62,\n",
       " 68.3,\n",
       " 67.12,\n",
       " 68.28,\n",
       " 71.09,\n",
       " 66.46,\n",
       " 68.65,\n",
       " 71.23,\n",
       " 67.13,\n",
       " 67.83,\n",
       " 68.88,\n",
       " 63.48,\n",
       " 68.42,\n",
       " 67.63,\n",
       " 67.21,\n",
       " 70.84,\n",
       " 67.49,\n",
       " 66.53,\n",
       " 65.44,\n",
       " 69.52,\n",
       " 65.81,\n",
       " 67.82,\n",
       " 70.6,\n",
       " 71.8,\n",
       " 69.21,\n",
       " 66.8,\n",
       " 67.66,\n",
       " 67.81,\n",
       " 64.05,\n",
       " 68.57,\n",
       " 65.18,\n",
       " 69.66,\n",
       " 67.97,\n",
       " 65.98,\n",
       " 68.67,\n",
       " 66.88,\n",
       " 67.7,\n",
       " 69.82,\n",
       " 69.09,\n",
       " 69.91,\n",
       " 67.33,\n",
       " 70.27,\n",
       " 69.1,\n",
       " 65.38,\n",
       " 70.18,\n",
       " 70.41,\n",
       " 66.54,\n",
       " 66.36,\n",
       " 67.54,\n",
       " 66.5,\n",
       " 69.0,\n",
       " 68.3,\n",
       " 67.01,\n",
       " 70.81,\n",
       " 68.22,\n",
       " 69.06,\n",
       " 67.73,\n",
       " 67.22,\n",
       " 67.37,\n",
       " 65.27,\n",
       " 70.84,\n",
       " 69.92,\n",
       " 64.29,\n",
       " 68.25,\n",
       " 66.36,\n",
       " 68.36,\n",
       " 65.48,\n",
       " 69.72,\n",
       " 67.73,\n",
       " 68.64,\n",
       " 66.78,\n",
       " 70.05,\n",
       " 66.28,\n",
       " 69.2,\n",
       " 69.13,\n",
       " 67.36,\n",
       " 70.09,\n",
       " 70.18,\n",
       " 68.23,\n",
       " 68.13,\n",
       " 70.24,\n",
       " 71.49,\n",
       " 69.2,\n",
       " 70.06,\n",
       " 70.56,\n",
       " 66.29,\n",
       " 63.43,\n",
       " 66.77,\n",
       " 68.89,\n",
       " 64.87,\n",
       " 67.09,\n",
       " 68.35,\n",
       " 65.61,\n",
       " 67.76,\n",
       " 68.02,\n",
       " 67.66,\n",
       " 66.31,\n",
       " 69.44,\n",
       " 63.84,\n",
       " 67.72,\n",
       " 70.05,\n",
       " 70.19,\n",
       " 65.95,\n",
       " 70.01,\n",
       " 68.61,\n",
       " 68.81,\n",
       " 69.76,\n",
       " 65.46,\n",
       " 68.83,\n",
       " 65.8,\n",
       " 67.21,\n",
       " 69.42,\n",
       " 68.94,\n",
       " 67.94,\n",
       " 65.63,\n",
       " 66.5,\n",
       " 67.93,\n",
       " 68.89,\n",
       " 70.24,\n",
       " 68.27,\n",
       " 71.23,\n",
       " 69.1,\n",
       " 64.4,\n",
       " 71.1,\n",
       " 68.22,\n",
       " 65.92,\n",
       " 67.44,\n",
       " 73.9,\n",
       " 69.98,\n",
       " 69.52,\n",
       " 65.18,\n",
       " 68.01,\n",
       " 68.34,\n",
       " 65.18,\n",
       " 68.26,\n",
       " 68.57,\n",
       " 64.5,\n",
       " 68.71,\n",
       " 68.89,\n",
       " 69.54,\n",
       " 67.4,\n",
       " 66.48,\n",
       " 66.01,\n",
       " 72.44,\n",
       " 64.13,\n",
       " 70.98,\n",
       " 67.5,\n",
       " 72.02,\n",
       " 65.31,\n",
       " 67.08,\n",
       " 64.39,\n",
       " 69.37,\n",
       " 68.38,\n",
       " 65.31,\n",
       " 67.14,\n",
       " 68.39,\n",
       " 66.29,\n",
       " 67.19,\n",
       " 65.99,\n",
       " 69.43,\n",
       " 67.97,\n",
       " 67.76,\n",
       " 65.28,\n",
       " 73.83,\n",
       " 66.81,\n",
       " 66.89,\n",
       " 65.74,\n",
       " 65.98,\n",
       " 66.58,\n",
       " 67.11,\n",
       " 65.87,\n",
       " 66.78,\n",
       " 68.74,\n",
       " 66.23,\n",
       " 65.96,\n",
       " 68.58,\n",
       " 66.59,\n",
       " 66.97,\n",
       " 68.08,\n",
       " 70.19,\n",
       " 65.52,\n",
       " 67.46,\n",
       " 67.41,\n",
       " 69.66,\n",
       " 65.8,\n",
       " 66.11,\n",
       " 68.24,\n",
       " 68.02,\n",
       " 71.39]"
      ]
     },
     "execution_count": 18,
     "metadata": {},
     "output_type": "execute_result"
    }
   ],
   "source": [
    "list(df['Height(Inches)'])"
   ]
  },
  {
   "cell_type": "code",
   "execution_count": null,
   "metadata": {},
   "outputs": [],
   "source": []
  }
 ],
 "metadata": {
  "kernelspec": {
   "display_name": "Python 3",
   "language": "python",
   "name": "python3"
  },
  "language_info": {
   "codemirror_mode": {
    "name": "ipython",
    "version": 3
   },
   "file_extension": ".py",
   "mimetype": "text/x-python",
   "name": "python",
   "nbconvert_exporter": "python",
   "pygments_lexer": "ipython3",
   "version": "3.8.5"
  }
 },
 "nbformat": 4,
 "nbformat_minor": 4
}
